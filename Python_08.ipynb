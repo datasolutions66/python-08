{
  "nbformat": 4,
  "nbformat_minor": 0,
  "metadata": {
    "colab": {
      "provenance": []
    },
    "kernelspec": {
      "name": "python3",
      "display_name": "Python 3"
    },
    "language_info": {
      "name": "python"
    }
  },
  "cells": [
    {
      "cell_type": "markdown",
      "source": [
        "#Summary:-\n",
        "##Operators:-\n",
        "###Logical Operators\n",
        "###Equality Operators\n",
        "###Comparison Operator\n",
        "###Arithmatic Operator\n",
        "###Use of Indentation\n",
        "###if-else condition\n",
        "###Nested if-else\n",
        "###Print Two Condition\n",
        "###Square Root\n",
        "###Square"
      ],
      "metadata": {
        "id": "zgQvK042QgTo"
      }
    },
    {
      "cell_type": "markdown",
      "source": [
        "##1. Logical Operators:-\n",
        "###and - If Both Condition True, So it will be True. If One condition will be False, so it will be False.\n",
        "###or - If One condition is True, it will be True. If Two condition is False, it will be False.\n",
        "###not - It will do Opposite."
      ],
      "metadata": {
        "id": "_1lhFo7xRCTn"
      }
    },
    {
      "cell_type": "markdown",
      "source": [
        "###not Operator:-"
      ],
      "metadata": {
        "id": "PbGpHn_JS4Ff"
      }
    },
    {
      "cell_type": "code",
      "source": [
        "start = True\n",
        "print(start)"
      ],
      "metadata": {
        "colab": {
          "base_uri": "https://localhost:8080/"
        },
        "id": "F_4pU97hQvYg",
        "outputId": "2c6ad36f-4ea8-4c9d-860e-46c664fde77d"
      },
      "execution_count": null,
      "outputs": [
        {
          "output_type": "stream",
          "name": "stdout",
          "text": [
            "True\n"
          ]
        }
      ]
    },
    {
      "cell_type": "code",
      "source": [
        "start = True   #It will do Opposite\n",
        "print(not start)"
      ],
      "metadata": {
        "colab": {
          "base_uri": "https://localhost:8080/"
        },
        "id": "eDsKS-uATJFv",
        "outputId": "c4557cad-6885-4dd9-c769-e79ca93955ff"
      },
      "execution_count": null,
      "outputs": [
        {
          "output_type": "stream",
          "name": "stdout",
          "text": [
            "False\n"
          ]
        }
      ]
    },
    {
      "cell_type": "code",
      "source": [
        "class_started = True\n",
        "if class_started:\n",
        "  print(\"Let's Concentrate\")"
      ],
      "metadata": {
        "colab": {
          "base_uri": "https://localhost:8080/"
        },
        "id": "ere3_cBWTWLu",
        "outputId": "7188be11-cd9e-488a-b789-60c0b411c2c0"
      },
      "execution_count": null,
      "outputs": [
        {
          "output_type": "stream",
          "name": "stdout",
          "text": [
            "Let's Concentrate\n"
          ]
        }
      ]
    },
    {
      "cell_type": "markdown",
      "source": [
        "##if-else Condition"
      ],
      "metadata": {
        "id": "Chfvk1xbU5qX"
      }
    },
    {
      "cell_type": "code",
      "source": [
        "class_started = True\n",
        "if class_started:\n",
        "  print(\"Let's Concentrate\")   #Extra Space is called - Indentation\n",
        "else:\n",
        "  print(\"Let's Revise Previouse Class\")"
      ],
      "metadata": {
        "colab": {
          "base_uri": "https://localhost:8080/"
        },
        "id": "ijC1ObM3UA3f",
        "outputId": "1bd3e9c6-7ea4-43d9-9c3b-54620cf9c289"
      },
      "execution_count": null,
      "outputs": [
        {
          "output_type": "stream",
          "name": "stdout",
          "text": [
            "Let's Concentrate\n"
          ]
        }
      ]
    },
    {
      "cell_type": "code",
      "source": [
        "class_started = False\n",
        "if class_started:\n",
        "  print(\"Let's Concentrate\")\n",
        "else:\n",
        "  print(\"Let's Revise Previouse Class\")"
      ],
      "metadata": {
        "colab": {
          "base_uri": "https://localhost:8080/"
        },
        "id": "Oo4wxRO6UnzX",
        "outputId": "472f17d9-a977-4ac7-8f8b-76f1dded9416"
      },
      "execution_count": null,
      "outputs": [
        {
          "output_type": "stream",
          "name": "stdout",
          "text": [
            "Let's Revise Previouse Class\n"
          ]
        }
      ]
    },
    {
      "cell_type": "markdown",
      "source": [
        "##Use of Indentation (Extra Space)"
      ],
      "metadata": {
        "id": "PR9GCgJBYpCX"
      }
    },
    {
      "cell_type": "code",
      "source": [
        "class_started = False\n",
        "if class_started:\n",
        "print(\"Let's Concentrate\")\n",
        "else:\n",
        "print(\"Let's Revise Previouse Class\")"
      ],
      "metadata": {
        "colab": {
          "base_uri": "https://localhost:8080/",
          "height": 131
        },
        "id": "X6q0JMeIWWZH",
        "outputId": "fe2f664e-8622-4ebf-bb20-5a48bdcacd08"
      },
      "execution_count": null,
      "outputs": [
        {
          "output_type": "error",
          "ename": "IndentationError",
          "evalue": "ignored",
          "traceback": [
            "\u001b[0;36m  File \u001b[0;32m\"<ipython-input-7-dc397ed9ed82>\"\u001b[0;36m, line \u001b[0;32m3\u001b[0m\n\u001b[0;31m    print(\"Let's Concentrate\")\u001b[0m\n\u001b[0m    ^\u001b[0m\n\u001b[0;31mIndentationError\u001b[0m\u001b[0;31m:\u001b[0m expected an indented block\n"
          ]
        }
      ]
    },
    {
      "cell_type": "markdown",
      "source": [
        "##Print Two Condition:-"
      ],
      "metadata": {
        "id": "MO6HM5LhZeE3"
      }
    },
    {
      "cell_type": "code",
      "source": [
        "raining  = True\n",
        "if raining:\n",
        "  print(\"Since it's raining...\")\n",
        "  print(\"Let's do work from home\")  #This Statement Executed\n",
        "else:\n",
        "  print(\"Since it's not raining...\")\n",
        "  print(\"Let's go to Office\")"
      ],
      "metadata": {
        "colab": {
          "base_uri": "https://localhost:8080/"
        },
        "id": "3yx0ffnkY08H",
        "outputId": "4ae3318a-4295-4e0d-9bef-b92cc1b924e1"
      },
      "execution_count": null,
      "outputs": [
        {
          "output_type": "stream",
          "name": "stdout",
          "text": [
            "Since it's raining...\n",
            "Let's do work from home\n"
          ]
        }
      ]
    },
    {
      "cell_type": "code",
      "source": [
        "raining  = False\n",
        "if raining:\n",
        "  print(\"Since it's raining...\")\n",
        "  print(\"Let's do work from home\")\n",
        "else:\n",
        "  print(\"Since it's not raining...\")  #This Statement Executed\n",
        "  print(\"Let's go to Office\")"
      ],
      "metadata": {
        "colab": {
          "base_uri": "https://localhost:8080/"
        },
        "id": "sGsX1-ewaxU4",
        "outputId": "1d665634-6ea3-4748-f51f-a636878dd7a7"
      },
      "execution_count": null,
      "outputs": [
        {
          "output_type": "stream",
          "name": "stdout",
          "text": [
            "Since it's not raining...\n",
            "Let's go to Office\n"
          ]
        }
      ]
    },
    {
      "cell_type": "code",
      "source": [
        "raining  = True\n",
        "if not raining:\n",
        "  print(\"Since it's not raining...\")\n",
        "  print(\"Let's go to Office\")\n",
        "else:\n",
        "  print(\"Since it's raining...\")\n",
        "  print(\"Let's do work from home\")  "
      ],
      "metadata": {
        "colab": {
          "base_uri": "https://localhost:8080/"
        },
        "id": "P5D_2a6ujeL_",
        "outputId": "d4a38f2b-9b0e-4cfe-8d16-012e094bb097"
      },
      "execution_count": null,
      "outputs": [
        {
          "output_type": "stream",
          "name": "stdout",
          "text": [
            "Since it's raining...\n",
            "Let's do work from home\n"
          ]
        }
      ]
    },
    {
      "cell_type": "code",
      "source": [
        "raining  = False\n",
        "if not raining:\n",
        "  print(\"Since it's not raining...\")\n",
        "  print(\"Let's go to Office\")\n",
        "else:\n",
        "  print(\"Since it's raining...\")\n",
        "  print(\"Let's do work from home\")  "
      ],
      "metadata": {
        "colab": {
          "base_uri": "https://localhost:8080/"
        },
        "id": "DtbCq9sxk5en",
        "outputId": "03f03889-3e94-4828-e4ff-09b20c8d4695"
      },
      "execution_count": null,
      "outputs": [
        {
          "output_type": "stream",
          "name": "stdout",
          "text": [
            "Since it's not raining...\n",
            "Let's go to Office\n"
          ]
        }
      ]
    },
    {
      "cell_type": "markdown",
      "source": [
        "##and - Operator:-\n",
        "###If All conditions are True, so, it will be True.\n",
        "###If One Condition False, It will be False.\n",
        "###False | False => False\n",
        "###False | True => False\n",
        "###True | False => False\n",
        "###True | True => True"
      ],
      "metadata": {
        "id": "2dznOZvGp8ft"
      }
    },
    {
      "cell_type": "code",
      "source": [
        "vegetable_present = False \n",
        "salt_present = False \n",
        "if vegetable_present and salt_present:\n",
        "  print(\"It's a Good Dish\")\n",
        "else:\n",
        "  print(\"It's a Bad Dish\")\n",
        "  print(f\"Because vegetable present: {vegetable_present}\")\n",
        "  print(f\"and salt present: {salt_present}\")\n"
      ],
      "metadata": {
        "colab": {
          "base_uri": "https://localhost:8080/"
        },
        "id": "QMZF9F6ylTL2",
        "outputId": "2511f01e-afac-407f-d5ae-e963d1d34b59"
      },
      "execution_count": null,
      "outputs": [
        {
          "output_type": "stream",
          "name": "stdout",
          "text": [
            "It's a Bad Dish\n",
            "Because vegetable present: False\n",
            "and salt present: False\n"
          ]
        }
      ]
    },
    {
      "cell_type": "code",
      "source": [
        "vegetable_present = False \n",
        "salt_present = True\n",
        "if vegetable_present and salt_present:\n",
        "  print(\"It's a Good Dish\")\n",
        "else:\n",
        "  print(\"It's a Bad Dish\")\n",
        "  print(f\"Because vegetable present: {vegetable_present}\")\n",
        "  print(f\"and salt present: {salt_present}\")"
      ],
      "metadata": {
        "colab": {
          "base_uri": "https://localhost:8080/"
        },
        "id": "qE6335wRspxO",
        "outputId": "c4c94ff2-46ac-4d75-e951-884a974f720e"
      },
      "execution_count": null,
      "outputs": [
        {
          "output_type": "stream",
          "name": "stdout",
          "text": [
            "It's a Bad Dish\n",
            "Because vegetable present: False\n",
            "and salt present: True\n"
          ]
        }
      ]
    },
    {
      "cell_type": "code",
      "source": [
        "vegetable_present = True \n",
        "salt_present = False \n",
        "if vegetable_present and salt_present:\n",
        "  print(\"It's a Good Dish\")\n",
        "else:\n",
        "  print(\"It's a Bad Dish\")\n",
        "  print(f\"Because vegetable present: {vegetable_present}\")\n",
        "  print(f\"and salt present: {salt_present}\")"
      ],
      "metadata": {
        "colab": {
          "base_uri": "https://localhost:8080/"
        },
        "id": "xlxRd1MttbI9",
        "outputId": "1bd30e1f-39eb-46a1-8a5a-3adfe91440b1"
      },
      "execution_count": null,
      "outputs": [
        {
          "output_type": "stream",
          "name": "stdout",
          "text": [
            "It's a Bad Dish\n",
            "Because vegetable present: True\n",
            "and salt present: False\n"
          ]
        }
      ]
    },
    {
      "cell_type": "code",
      "source": [
        "vegetable_present = True \n",
        "salt_present = True\n",
        "if vegetable_present and salt_present:   #It's True, because both conditions are True.\n",
        "  print(\"It's a Good Dish\")\n",
        "else:\n",
        "  print(\"It's a Bad Dish\")\n",
        "  print(f\"Because vegetable present: {vegetable_present}\")\n",
        "  print(f\"and salt present: {salt_present}\")"
      ],
      "metadata": {
        "colab": {
          "base_uri": "https://localhost:8080/"
        },
        "id": "qyn_uXxwtjIl",
        "outputId": "63826ca0-4840-4490-a6e1-4f2af69e6951"
      },
      "execution_count": null,
      "outputs": [
        {
          "output_type": "stream",
          "name": "stdout",
          "text": [
            "It's a Good Dish\n"
          ]
        }
      ]
    },
    {
      "cell_type": "markdown",
      "source": [
        "##or - Operator:-\n",
        "###If One Condition is True, it will be True.\n",
        "###If two Condition are False, it will be False.\n",
        "###False | False => False\n",
        "###False | True => True\n",
        "###True | False => True\n",
        "###True | True => True"
      ],
      "metadata": {
        "id": "y4UkYfUtudLN"
      }
    },
    {
      "cell_type": "code",
      "source": [
        "i_have_car = False\n",
        "i_have_bike = False\n",
        "\n",
        "if i_have_car or i_have_bike:\n",
        "  print(\"I can Travel 100KM in a Day\")\n",
        "else:\n",
        "  print(\"I am stuck as I don't have Car or Bike\")"
      ],
      "metadata": {
        "colab": {
          "base_uri": "https://localhost:8080/"
        },
        "id": "Cg4YJlQOtnb9",
        "outputId": "b8a3719e-e417-40a2-c95f-ea9b130f48ed"
      },
      "execution_count": null,
      "outputs": [
        {
          "output_type": "stream",
          "name": "stdout",
          "text": [
            "I am stuck as I don't have Car or Bike\n"
          ]
        }
      ]
    },
    {
      "cell_type": "code",
      "source": [
        "i_have_car = False\n",
        "i_have_bike = True\n",
        "\n",
        "if i_have_car or i_have_bike:\n",
        "  print(\"I can Travel 100KM in a Day\")\n",
        "else:\n",
        "  print(\"I am stuck as I don't have Car or Bike\")"
      ],
      "metadata": {
        "colab": {
          "base_uri": "https://localhost:8080/"
        },
        "id": "ki-mp5IlxLXO",
        "outputId": "a789bc90-66f4-4eb1-9e3f-b89f8ebca4b9"
      },
      "execution_count": null,
      "outputs": [
        {
          "output_type": "stream",
          "name": "stdout",
          "text": [
            "I can Travel 100KM in a Day\n"
          ]
        }
      ]
    },
    {
      "cell_type": "code",
      "source": [
        "i_have_car = True\n",
        "i_have_bike = False\n",
        "\n",
        "if i_have_car or i_have_bike:\n",
        "  print(\"I can Travel 100KM in a Day\")\n",
        "else:\n",
        "  print(\"I am stuck as I don't have Car or Bike\")"
      ],
      "metadata": {
        "colab": {
          "base_uri": "https://localhost:8080/"
        },
        "id": "SyboPjr9xQKF",
        "outputId": "ab6b1077-23f3-44ce-9689-0babcd1194d1"
      },
      "execution_count": null,
      "outputs": [
        {
          "output_type": "stream",
          "name": "stdout",
          "text": [
            "I can Travel 100KM in a Day\n"
          ]
        }
      ]
    },
    {
      "cell_type": "code",
      "source": [
        "i_have_car = True\n",
        "i_have_bike = True\n",
        "\n",
        "if i_have_car or i_have_bike:\n",
        "  print(\"I can Travel 100KM in a Day\")\n",
        "else:\n",
        "  print(\"I am stuck as I don't have Car or Bike\")"
      ],
      "metadata": {
        "colab": {
          "base_uri": "https://localhost:8080/"
        },
        "id": "vQgkATvHxWct",
        "outputId": "0b2ceed1-efcc-411e-93d3-59718d14dba5"
      },
      "execution_count": null,
      "outputs": [
        {
          "output_type": "stream",
          "name": "stdout",
          "text": [
            "I can Travel 100KM in a Day\n"
          ]
        }
      ]
    },
    {
      "cell_type": "markdown",
      "source": [
        "##Use and | or  - Operator Together:-"
      ],
      "metadata": {
        "id": "EyCjyd-QzAZ1"
      }
    },
    {
      "cell_type": "code",
      "source": [
        "attendance = 70\n",
        "assignment_submitted = 40\n",
        "sports_player = True\n",
        "\n",
        "print(f\"Attendence criteria met? {attendance >= 75}\")\n",
        "print(f\"Assignment criteria met? {assignment_submitted >= 70}\")\n",
        "print(f\"Sports criteria met? {sports_player}\")\n",
        "\n",
        "if (attendance >= 75 and assignment_submitted >= 70) or sports_player:\n",
        "  print(\"The Students is eligible to appear in Final Exam\")\n",
        "else:\n",
        "  print(\"The Student is not eligible\")"
      ],
      "metadata": {
        "colab": {
          "base_uri": "https://localhost:8080/"
        },
        "id": "J_UWu3FXxcZ8",
        "outputId": "903d17a0-2934-4a30-bcfa-69a5920a89f0"
      },
      "execution_count": null,
      "outputs": [
        {
          "output_type": "stream",
          "name": "stdout",
          "text": [
            "Attendence criteria met? False\n",
            "Assignment criteria met? False\n",
            "Sports criteria met? True\n",
            "The Students is eligible to appear in Final Exam\n"
          ]
        }
      ]
    },
    {
      "cell_type": "markdown",
      "source": [
        "##2. Equality Operators:-\n",
        "###is  -   a is b True  => a and b are pointing to the same object.\n",
        "###is not  -   a is not b  => a and b does not pointing to the same object.\n",
        "###== - a == b    => Equal to\n",
        "###!= - a != b    => Not Equal to\n",
        "\n",
        "###NOTE:- When using \"is\" - then we are also comparing Memory Location.\n",
        "###NOTE:- When using \"is not\" - then we are also comparing Memory Location.\n",
        "###NOTE:- When using \"==\" and \"!=\" - then checking value of the variables.[Mostly used]"
      ],
      "metadata": {
        "id": "xe3qQZt73guN"
      }
    },
    {
      "cell_type": "code",
      "source": [
        "A = 1\n",
        "B = 1\n",
        "\n",
        "if A is B:\n",
        "  print(\"A and B are same\")\n",
        "else:\n",
        "  print(\"A and B are not same\")"
      ],
      "metadata": {
        "colab": {
          "base_uri": "https://localhost:8080/"
        },
        "id": "jUPLLZ_n1nus",
        "outputId": "84ade11f-89d5-4c9a-b0f9-42c50c001026"
      },
      "execution_count": null,
      "outputs": [
        {
          "output_type": "stream",
          "name": "stdout",
          "text": [
            "A and B are same\n"
          ]
        }
      ]
    },
    {
      "cell_type": "code",
      "source": [
        "A = 1\n",
        "B = 3\n",
        "\n",
        "if A is B:\n",
        "  print(\"A and B are same\")\n",
        "else:\n",
        "  print(\"A and B are not same\")"
      ],
      "metadata": {
        "colab": {
          "base_uri": "https://localhost:8080/"
        },
        "id": "COLTBrOg6AYP",
        "outputId": "d7f1b174-2556-4551-8226-fb700e0e0ca3"
      },
      "execution_count": null,
      "outputs": [
        {
          "output_type": "stream",
          "name": "stdout",
          "text": [
            "A and B are not same\n"
          ]
        }
      ]
    },
    {
      "cell_type": "code",
      "source": [
        "A = 1\n",
        "B = 3\n",
        "\n",
        "if A is not B:\n",
        "  print(\"A and B are not same\")\n",
        "else:\n",
        "  print(\"A and B are same\")\n",
        "  "
      ],
      "metadata": {
        "colab": {
          "base_uri": "https://localhost:8080/"
        },
        "id": "R-oATk4K6Hqs",
        "outputId": "1731535c-cd5c-4294-a83a-20ecaea5ec29"
      },
      "execution_count": null,
      "outputs": [
        {
          "output_type": "stream",
          "name": "stdout",
          "text": [
            "A and B are not same\n"
          ]
        }
      ]
    },
    {
      "cell_type": "code",
      "source": [
        "A = 1\n",
        "B = 1\n",
        "\n",
        "if A == B:  #A and B are having same value.\n",
        "  print(\"A and B are same\")\n",
        "else:\n",
        "  print(\"A and B are not same\")"
      ],
      "metadata": {
        "colab": {
          "base_uri": "https://localhost:8080/"
        },
        "id": "Skc0JTec6dhD",
        "outputId": "4abeb5c9-c79d-46cd-d74d-8dd6338fd3de"
      },
      "execution_count": null,
      "outputs": [
        {
          "output_type": "stream",
          "name": "stdout",
          "text": [
            "A and B are same\n"
          ]
        }
      ]
    },
    {
      "cell_type": "code",
      "source": [
        "A = 1\n",
        "B = 3\n",
        "\n",
        "if A != B:\n",
        "  print(\"A and B are not same\")\n",
        "else:\n",
        "  print(\"A and B are same\")"
      ],
      "metadata": {
        "colab": {
          "base_uri": "https://localhost:8080/"
        },
        "id": "WOQD2WyJ6q88",
        "outputId": "f43f0121-3db0-4349-f48b-73b4dfd648ce"
      },
      "execution_count": null,
      "outputs": [
        {
          "output_type": "stream",
          "name": "stdout",
          "text": [
            "A and B are not same\n"
          ]
        }
      ]
    },
    {
      "cell_type": "markdown",
      "source": [
        "##3. Comparison Operator:-\n",
        "###<, <=, >, >=\n",
        "###A < B\n",
        "###A <= B\n",
        "###A > B\n",
        "###A >= B"
      ],
      "metadata": {
        "id": "AOowpJ93-hN8"
      }
    },
    {
      "cell_type": "code",
      "source": [
        "attendance = 75\n",
        "assignment_submitted = 70\n",
        "\n",
        "print(f\"Attendence criteria met? {attendance >= 75}\")\n",
        "print(f\"Assignment criteria met? {assignment_submitted >= 70}\")\n",
        "\n",
        "if attendance >= 75 and assignment_submitted >= 70:\n",
        "  print(\"The Students is eligible to appear in Final Exam\")\n",
        "else:\n",
        "  print(\"The Student is not eligible\")"
      ],
      "metadata": {
        "colab": {
          "base_uri": "https://localhost:8080/"
        },
        "id": "-4ib9G-q69Sk",
        "outputId": "02387ca0-91f9-4058-f7c9-c076005f6891"
      },
      "execution_count": null,
      "outputs": [
        {
          "output_type": "stream",
          "name": "stdout",
          "text": [
            "Attendence criteria met? True\n",
            "Assignment criteria met? True\n",
            "The Students is eligible to appear in Final Exam\n"
          ]
        }
      ]
    },
    {
      "cell_type": "code",
      "source": [
        "your_score = 78\n",
        "passing_marks = 33\n",
        "\n",
        "if your_score >= 33:\n",
        "  print(f\"Since you have scored: {your_score}, you have passed the exam\")\n",
        "else:\n",
        "  print(\"Dad: You should take this Exam seriously\")"
      ],
      "metadata": {
        "colab": {
          "base_uri": "https://localhost:8080/"
        },
        "id": "E4bVemKb_z8l",
        "outputId": "be6cdb21-d9a2-426a-9bcd-390cf3c304a1"
      },
      "execution_count": null,
      "outputs": [
        {
          "output_type": "stream",
          "name": "stdout",
          "text": [
            "Since you have scored: 78, you have passed the exam\n"
          ]
        }
      ]
    },
    {
      "cell_type": "code",
      "source": [
        "your_score = 30\n",
        "passing_marks = 33\n",
        "\n",
        "if your_score >= 33:\n",
        "  print(f\"Since you have scored: {your_score}, you have passed the exam\")\n",
        "else:\n",
        "  print(\"Dad: You should take this Exam seriously\")"
      ],
      "metadata": {
        "colab": {
          "base_uri": "https://localhost:8080/"
        },
        "id": "5vmVQHyYBE-l",
        "outputId": "f24a9945-81d1-439f-87d0-5749ba7af698"
      },
      "execution_count": null,
      "outputs": [
        {
          "output_type": "stream",
          "name": "stdout",
          "text": [
            "Dad: You should take this Exam seriously\n"
          ]
        }
      ]
    },
    {
      "cell_type": "code",
      "source": [
        "your_score = 33\n",
        "passing_marks = 33\n",
        "\n",
        "if your_score > 33:\n",
        "  print(f\"Since you have scored: {your_score}, you have passed the exam\")\n",
        "else:\n",
        "  print(\"Dad: You should take this Exam seriously\")"
      ],
      "metadata": {
        "colab": {
          "base_uri": "https://localhost:8080/"
        },
        "id": "QdCFPxiBBnjz",
        "outputId": "ec40c9b4-2c79-4261-ceaf-4944cfeb037e"
      },
      "execution_count": null,
      "outputs": [
        {
          "output_type": "stream",
          "name": "stdout",
          "text": [
            "Dad: You should take this Exam seriously\n"
          ]
        }
      ]
    },
    {
      "cell_type": "markdown",
      "source": [
        "###Nested if-else"
      ],
      "metadata": {
        "id": "f-uSDrqhCV-k"
      }
    },
    {
      "cell_type": "code",
      "source": [
        "your_score = 33\n",
        "passing_marks = 33\n",
        "distinction_marks = 75\n",
        "\n",
        "if your_score > 33:\n",
        "  print(f\"Since you have scored: {your_score}, you have passed the exam\")\n",
        "  if your_score > distinction_marks:\n",
        "    print(\"I will buy a Bike for you. Well Done!!\")\n",
        "else:\n",
        "  print(\"Dad: You should take this Exam seriously\")"
      ],
      "metadata": {
        "colab": {
          "base_uri": "https://localhost:8080/"
        },
        "id": "m_RBMRb1B-ez",
        "outputId": "5c3112d4-9fa6-499d-d495-c392e51dea77"
      },
      "execution_count": null,
      "outputs": [
        {
          "output_type": "stream",
          "name": "stdout",
          "text": [
            "Dad: You should take this Exam seriously\n"
          ]
        }
      ]
    },
    {
      "cell_type": "code",
      "source": [
        "your_score = 92\n",
        "passing_marks = 33\n",
        "distinction_marks = 75\n",
        "\n",
        "if your_score > 33:\n",
        "  print(f\"Since you have scored: {your_score}, you have passed the exam\")\n",
        "  if your_score > distinction_marks:\n",
        "    print(\"I will buy a Bike for you. Well Done!!\")\n",
        "else:\n",
        "  print(\"Dad: You should take this Exam seriously\")"
      ],
      "metadata": {
        "colab": {
          "base_uri": "https://localhost:8080/"
        },
        "id": "lnc6ZC9oC5A1",
        "outputId": "3544b6bf-51a7-4525-a0b7-5996dbfcd070"
      },
      "execution_count": null,
      "outputs": [
        {
          "output_type": "stream",
          "name": "stdout",
          "text": [
            "Since you have scored: 92, you have passed the exam\n",
            "I will buy a Bike for you. Well Done!!\n"
          ]
        }
      ]
    },
    {
      "cell_type": "code",
      "source": [
        "your_score = 62\n",
        "passing_marks = 33\n",
        "distinction_marks = 75\n",
        "\n",
        "if your_score > 33:\n",
        "  print(f\"Since you have scored: {your_score}, you have passed the exam\")\n",
        "  if your_score > distinction_marks:\n",
        "    print(\"I will buy a Bike for you. Well Done!!\")\n",
        "  else:\n",
        "    print(\"Dad: Better Luck next time\")\n",
        "else:\n",
        "  print(\"Dad: You should take this Exam seriously\")"
      ],
      "metadata": {
        "colab": {
          "base_uri": "https://localhost:8080/"
        },
        "id": "vQbm7I0lDKyj",
        "outputId": "b8402323-d6f2-4ab6-fd1c-279aef233dd0"
      },
      "execution_count": null,
      "outputs": [
        {
          "output_type": "stream",
          "name": "stdout",
          "text": [
            "Since you have scored: 62, you have passed the exam\n",
            "Dad: Better Luck next time\n"
          ]
        }
      ]
    },
    {
      "cell_type": "markdown",
      "source": [
        "##4. Arithmatic Operator:-\n",
        "###+ => Addition\n",
        "###- => Subtraction\n",
        "###* => Multiplication\n",
        "###/ => True Division\n",
        "###// => Integer Division\n",
        "###% => Modulo Operator [More Use]"
      ],
      "metadata": {
        "id": "MJsRWjPhFLfT"
      }
    },
    {
      "cell_type": "code",
      "source": [
        "A = 22\n",
        "B = 23\n",
        "A + B"
      ],
      "metadata": {
        "colab": {
          "base_uri": "https://localhost:8080/"
        },
        "id": "yZaoYeQLDlD0",
        "outputId": "fa649ae7-60e4-4a20-97b6-157d40c9d9ed"
      },
      "execution_count": null,
      "outputs": [
        {
          "output_type": "execute_result",
          "data": {
            "text/plain": [
              "45"
            ]
          },
          "metadata": {},
          "execution_count": 36
        }
      ]
    },
    {
      "cell_type": "code",
      "source": [
        "A = 25\n",
        "B = 22\n",
        "A - B"
      ],
      "metadata": {
        "colab": {
          "base_uri": "https://localhost:8080/"
        },
        "id": "EOnk2fRDF-8k",
        "outputId": "7c43019f-ad4c-483b-a34c-3b5267a1148e"
      },
      "execution_count": null,
      "outputs": [
        {
          "output_type": "execute_result",
          "data": {
            "text/plain": [
              "3"
            ]
          },
          "metadata": {},
          "execution_count": 37
        }
      ]
    },
    {
      "cell_type": "code",
      "source": [
        "A = 25\n",
        "B = 10\n",
        "A * B"
      ],
      "metadata": {
        "colab": {
          "base_uri": "https://localhost:8080/"
        },
        "id": "tOvZjv0PGEAb",
        "outputId": "39b2ee5a-0be2-40a6-adff-0b047fc7b275"
      },
      "execution_count": null,
      "outputs": [
        {
          "output_type": "execute_result",
          "data": {
            "text/plain": [
              "250"
            ]
          },
          "metadata": {},
          "execution_count": 39
        }
      ]
    },
    {
      "cell_type": "code",
      "source": [
        "A = 30\n",
        "B = 5\n",
        "A / B"
      ],
      "metadata": {
        "colab": {
          "base_uri": "https://localhost:8080/"
        },
        "id": "z-FP0h97GMUb",
        "outputId": "54e1e273-4a5b-4737-ec5c-6af6d32b1a3f"
      },
      "execution_count": null,
      "outputs": [
        {
          "output_type": "execute_result",
          "data": {
            "text/plain": [
              "6.0"
            ]
          },
          "metadata": {},
          "execution_count": 40
        }
      ]
    },
    {
      "cell_type": "code",
      "source": [
        "A = 33\n",
        "B = 5\n",
        "A / B"
      ],
      "metadata": {
        "colab": {
          "base_uri": "https://localhost:8080/"
        },
        "id": "nJ9098JHGYrs",
        "outputId": "b35c6ce7-c1f6-42b6-f357-3ba235438673"
      },
      "execution_count": null,
      "outputs": [
        {
          "output_type": "execute_result",
          "data": {
            "text/plain": [
              "6.6"
            ]
          },
          "metadata": {},
          "execution_count": 41
        }
      ]
    },
    {
      "cell_type": "code",
      "source": [
        "A = 33\n",
        "B = 5\n",
        "A // B  #Only taking integer"
      ],
      "metadata": {
        "colab": {
          "base_uri": "https://localhost:8080/"
        },
        "id": "n4sSkq-GGkdr",
        "outputId": "08e2266f-5e02-4e06-913b-20529f7f7efe"
      },
      "execution_count": null,
      "outputs": [
        {
          "output_type": "execute_result",
          "data": {
            "text/plain": [
              "6"
            ]
          },
          "metadata": {},
          "execution_count": 42
        }
      ]
    },
    {
      "cell_type": "code",
      "source": [
        "A = 5\n",
        "B = 2\n",
        "A // B  #Only taking integer"
      ],
      "metadata": {
        "colab": {
          "base_uri": "https://localhost:8080/"
        },
        "id": "2JgXR4enGpbD",
        "outputId": "b897a0b3-1af4-4f33-f80e-00fee79a0344"
      },
      "execution_count": null,
      "outputs": [
        {
          "output_type": "execute_result",
          "data": {
            "text/plain": [
              "2"
            ]
          },
          "metadata": {},
          "execution_count": 43
        }
      ]
    },
    {
      "cell_type": "code",
      "source": [
        "A = 5\n",
        "B = 2\n",
        "A % B  # Giving the Remender"
      ],
      "metadata": {
        "colab": {
          "base_uri": "https://localhost:8080/"
        },
        "id": "2n5lB-icG_X7",
        "outputId": "6573905d-5b01-4927-c3dd-fcce6453563c"
      },
      "execution_count": null,
      "outputs": [
        {
          "output_type": "execute_result",
          "data": {
            "text/plain": [
              "1"
            ]
          },
          "metadata": {},
          "execution_count": 44
        }
      ]
    },
    {
      "cell_type": "code",
      "source": [
        "A = 11\n",
        "B = 3\n",
        "A % B  # Giving the Remender"
      ],
      "metadata": {
        "colab": {
          "base_uri": "https://localhost:8080/"
        },
        "id": "OixmTK-2HFi7",
        "outputId": "0efdc45f-34af-480b-a98b-977257f4e1a9"
      },
      "execution_count": null,
      "outputs": [
        {
          "output_type": "execute_result",
          "data": {
            "text/plain": [
              "2"
            ]
          },
          "metadata": {},
          "execution_count": 45
        }
      ]
    },
    {
      "cell_type": "code",
      "source": [
        "A = 4\n",
        "B = 2\n",
        "A % B  # Giving the Remender"
      ],
      "metadata": {
        "colab": {
          "base_uri": "https://localhost:8080/"
        },
        "id": "eTGnJSvfHUpb",
        "outputId": "e53b88e2-57e5-4768-962a-5e15361ecf85"
      },
      "execution_count": null,
      "outputs": [
        {
          "output_type": "execute_result",
          "data": {
            "text/plain": [
              "0"
            ]
          },
          "metadata": {},
          "execution_count": 46
        }
      ]
    },
    {
      "cell_type": "code",
      "source": [
        "A = 55\n",
        "B = 2\n",
        "\n",
        "if A % B == 0:\n",
        "  print(f\"A: {A} is divisible by B: {B}\")\n",
        "else:\n",
        "  print(f\"A: {A} is not divisible by B: {B}\")"
      ],
      "metadata": {
        "colab": {
          "base_uri": "https://localhost:8080/"
        },
        "id": "3hFdZcIQHs4r",
        "outputId": "4599a0ea-2ad0-4694-ab88-ac877b1273a3"
      },
      "execution_count": null,
      "outputs": [
        {
          "output_type": "stream",
          "name": "stdout",
          "text": [
            "A: 55 is not divisible by B: 2\n"
          ]
        }
      ]
    },
    {
      "cell_type": "code",
      "source": [
        "A = 44\n",
        "B = 2\n",
        "\n",
        "if A % B == 0:\n",
        "  print(f\"A: {A} is divisible by B: {B}\")\n",
        "else:\n",
        "  print(f\"A: {A} is not divisible by B: {B}\")"
      ],
      "metadata": {
        "colab": {
          "base_uri": "https://localhost:8080/"
        },
        "id": "ZT0b7HvfIbWb",
        "outputId": "7260b6f7-7f94-4eca-d86f-2e9355ef4cdd"
      },
      "execution_count": null,
      "outputs": [
        {
          "output_type": "stream",
          "name": "stdout",
          "text": [
            "A: 44 is divisible by B: 2\n"
          ]
        }
      ]
    },
    {
      "cell_type": "markdown",
      "source": [
        "##Square Root:-"
      ],
      "metadata": {
        "id": "4hDArTFyJHrb"
      }
    },
    {
      "cell_type": "code",
      "source": [
        "A = 4\n",
        "\n",
        "A**(1/2)"
      ],
      "metadata": {
        "colab": {
          "base_uri": "https://localhost:8080/"
        },
        "id": "hTgBDS8DIrSD",
        "outputId": "5a5d9c34-b909-4852-c341-b4412f9ee0c9"
      },
      "execution_count": null,
      "outputs": [
        {
          "output_type": "execute_result",
          "data": {
            "text/plain": [
              "2.0"
            ]
          },
          "metadata": {},
          "execution_count": 49
        }
      ]
    },
    {
      "cell_type": "markdown",
      "source": [
        "##Square:-"
      ],
      "metadata": {
        "id": "kQibILZPJXQC"
      }
    },
    {
      "cell_type": "code",
      "source": [
        "A = 4\n",
        "\n",
        "A**2"
      ],
      "metadata": {
        "colab": {
          "base_uri": "https://localhost:8080/"
        },
        "id": "QaJ_Z6ryJUPD",
        "outputId": "b3f18ee6-2a40-42c6-c1cd-98232010443d"
      },
      "execution_count": null,
      "outputs": [
        {
          "output_type": "execute_result",
          "data": {
            "text/plain": [
              "16"
            ]
          },
          "metadata": {},
          "execution_count": 50
        }
      ]
    },
    {
      "cell_type": "code",
      "source": [],
      "metadata": {
        "id": "ejwS_T8vJc9b"
      },
      "execution_count": null,
      "outputs": []
    }
  ]
}